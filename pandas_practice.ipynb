{
 "cells": [
  {
   "cell_type": "code",
   "execution_count": null,
   "metadata": {},
   "outputs": [],
   "source": [
    "#High School dictionary\n",
    "##high_school_types = [{\"High School\": \"Griffin\", \"type\" : \"District\"},\n",
    "                    {\"Hig School\" : \"Figueroa\", \"type\" : \"District\"},\n",
    "                    {\"High School\" : \"Wilson\", \"type\" : \"Charter\"},\n",
    "                    {\"High School\" : \"Wright\", \"type\" : \"Charter\" }]      "
   ]
  },
  {
   "cell_type": "code",
   "execution_count": null,
   "metadata": {},
   "outputs": [],
   "source": []
  },
  {
   "cell_type": "code",
   "execution_count": null,
   "metadata": {},
   "outputs": [],
   "source": [
    "# List of high schools\n",
    "high_schools = [\"Huang High School\",  \"Figueroa High School\", \"Shelton High School\", \"Hernandez High School\",\"Griffin High School\",\"Wilson High School\", \"Cabrera High School\", \"Bailey High School\", \"Holden High School\", \"Pena High School\", \"Wright High School\",\"Rodriguez High School\", \"Johnson High School\", \"Ford High School\", \"Thomas High School\"]"
   ]
  },
  {
   "cell_type": "code",
   "execution_count": null,
   "metadata": {},
   "outputs": [],
   "source": [
    "# Add the pandas dependency\n",
    "import pandas as pd"
   ]
  },
  {
   "cell_type": "code",
   "execution_count": null,
   "metadata": {},
   "outputs": [],
   "source": [
    "school_series = pd.Series(high_schools)\n",
    "school_series\n"
   ]
  },
  {
   "cell_type": "code",
   "execution_count": null,
   "metadata": {},
   "outputs": [],
   "source": [
    "high_school_dicts = [{ \"School ID\": 0, \"school_name\": \"Huang HS\", \"type\": \"District\"},\n",
    "                     { \"School ID\": 1, \"school_name\": \"Figueroa HS\", \"type\": \"District\"},\n",
    "                     { \"School ID\": 2, \"school_name\": \"Shelton HS\", \"type\": \"Charter\"},\n",
    "                     { \"School ID\": 3, \"school_name\": \"Hernadez HS\", \"type\": \"District\"},\n",
    "                     { \"School ID\": 4, \"school_name\": \"Griffin HS\", \"type\": \"Charter\"},]"
   ]
  },
  {
   "cell_type": "code",
   "execution_count": null,
   "metadata": {},
   "outputs": [],
   "source": [
    "school_df = pd.DataFrame(high_school_dicts)\n",
    "school_df"
   ]
  },
  {
   "cell_type": "code",
   "execution_count": null,
   "metadata": {},
   "outputs": [],
   "source": [
    "school_id = [ 0,1,2,3,4]\n",
    "\n",
    "school_name =  [\"Huang HS\", \"Figueroa HS\", \" Shelton HS\", \" Hernadez HS\", \" Griffin HS\"]\n",
    "\n",
    "type_of_school = [\" District\", \" District\",\"Charter\",\"District\",\"Charter\"]\n"
   ]
  },
  {
   "cell_type": "code",
   "execution_count": null,
   "metadata": {},
   "outputs": [],
   "source": [
    "#Intialize a new Dataframe\n",
    "schools_df = pd.DataFrame ()\n",
    "\n",
    "\n",
    "\n",
    "schools_df[\"school_id\"]= school_id\n",
    "schools_df[\"school_name\"]= school_name\n",
    "schools_df[\"type_of_school\"]= type_of_school\n",
    "\n",
    "#print Dataframe\n",
    "schools_df"
   ]
  },
  {
   "cell_type": "code",
   "execution_count": null,
   "metadata": {},
   "outputs": [],
   "source": [
    "schools_df.columns"
   ]
  },
  {
   "cell_type": "code",
   "execution_count": null,
   "metadata": {},
   "outputs": [],
   "source": [
    "schools_df.index"
   ]
  },
  {
   "cell_type": "code",
   "execution_count": 45,
   "metadata": {},
   "outputs": [
    {
     "data": {
      "text/plain": [
       "array([[0, 'Huang HS', ' District'],\n",
       "       [1, 'Figueroa HS', ' District'],\n",
       "       [2, ' Shelton HS', 'Charter'],\n",
       "       [3, ' Hernadez HS', 'District'],\n",
       "       [4, ' Griffin HS', 'Charter']], dtype=object)"
      ]
     },
     "execution_count": 45,
     "metadata": {},
     "output_type": "execute_result"
    }
   ],
   "source": [
    "schools_df.values"
   ]
  },
  {
   "cell_type": "code",
   "execution_count": null,
   "metadata": {},
   "outputs": [],
   "source": []
  }
 ],
 "metadata": {
  "kernelspec": {
   "display_name": "Pythondata",
   "language": "python",
   "name": "pythondata"
  },
  "language_info": {
   "codemirror_mode": {
    "name": "ipython",
    "version": 3
   },
   "file_extension": ".py",
   "mimetype": "text/x-python",
   "name": "python",
   "nbconvert_exporter": "python",
   "pygments_lexer": "ipython3",
   "version": "3.8.3"
  }
 },
 "nbformat": 4,
 "nbformat_minor": 4
}
